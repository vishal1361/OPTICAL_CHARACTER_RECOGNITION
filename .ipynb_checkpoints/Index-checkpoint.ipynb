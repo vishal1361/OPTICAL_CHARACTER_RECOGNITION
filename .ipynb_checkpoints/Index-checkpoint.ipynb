{
 "cells": [
  {
   "cell_type": "markdown",
   "id": "ac287d7b",
   "metadata": {},
   "source": [
    "### Preparing Dataset"
   ]
  },
  {
   "cell_type": "code",
   "execution_count": 26,
   "id": "31b3d73c",
   "metadata": {},
   "outputs": [],
   "source": [
    "TEST_DIR = 'C:/Users/HP/OneDrive/Desktop/MACHINE LEARNING PROJECTS/OCR/TEST/'\n",
    "DATA_DIR = 'C:/Users/HP/OneDrive/Desktop/MACHINE LEARNING PROJECTS/OCR/DATA/'\n",
    "TEST_DATA_FILENAME = DATA_DIR + 't10k-images.idx3-ubyte'\n",
    "TEST_LABELS_FILENAME = DATA_DIR + 't10k-labels.idx1-ubyte'\n",
    "TRAIN_DATA_FILENAME = DATA_DIR + 'train-images.idx3-ubyte'\n",
    "TRAIN_LABELS_FILENAME = DATA_DIR + 'train-labels.idx1-ubyte'"
   ]
  },
  {
   "cell_type": "code",
   "execution_count": 27,
   "id": "47eb4032",
   "metadata": {},
   "outputs": [],
   "source": [
    "def bytes_to_int(byte_data):\n",
    "    return int.from_bytes(byte_data, 'big')\n",
    "\n",
    "def read_images(filename, n_max_images=None):\n",
    "    images = []\n",
    "    with open(filename, 'rb') as f:\n",
    "        _ = f.read(4) # magic number\n",
    "        n_images = bytes_to_int(f.read(4))\n",
    "        if n_max_images:\n",
    "            n_images = n_max_images\n",
    "            \n",
    "        n_rows = bytes_to_int(f.read(4))\n",
    "        n_columns = bytes_to_int(f.read(4))\n",
    "        for image_idx in range(n_images):\n",
    "            image = []\n",
    "            for row_idx in range(n_rows):\n",
    "                row = []\n",
    "                for col_idx in range(n_columns):\n",
    "                    pixel = bytes_to_int(f.read(1))\n",
    "#                     pixel = f.read(1)\n",
    "                    row.append(pixel)\n",
    "                image.append(row)\n",
    "            images.append(image)\n",
    "    return images\n",
    "\n",
    "def read_labels(filename, n_max_labels=None):\n",
    "    labels = []\n",
    "    with open(filename, 'rb') as f:\n",
    "        _ = f.read(4)\n",
    "        n_labels = bytes_to_int(f.read(4))\n",
    "        if n_max_labels:\n",
    "            n_labels = n_max_labels\n",
    "        for label_idx in range(n_labels):\n",
    "            label = bytes_to_int(f.read(1))\n",
    "#             label = f.read(1)\n",
    "            labels.append(label)\n",
    "    return labels\n",
    "\n",
    "# converts a two dimentional list into one dimentional\n",
    "def flatten_list(l):\n",
    "    return [pixel for sublist in l for pixel in sublist]\n",
    "\n",
    "def extract_features(X):\n",
    "    return [flatten_list(sample) for sample in X]\n"
   ]
  },
  {
   "cell_type": "markdown",
   "id": "5a8f6136",
   "metadata": {},
   "source": [
    "### Approach 1 : Andrew Ng Code For KNN Algo"
   ]
  },
  {
   "cell_type": "code",
   "execution_count": 28,
   "id": "685c023e",
   "metadata": {},
   "outputs": [],
   "source": [
    "X_train = read_images(TRAIN_DATA_FILENAME, 1000) # list of images\n",
    "y_train = read_labels(TRAIN_LABELS_FILENAME, 1000)\n",
    "X_test = read_images(TEST_DATA_FILENAME, 200)\n",
    "y_test = read_labels(TEST_LABELS_FILENAME, 200)\n",
    "\n",
    "X_train = extract_features(X_train)\n",
    "X_test = extract_features(X_test)"
   ]
  },
  {
   "cell_type": "code",
   "execution_count": 29,
   "id": "c763da80",
   "metadata": {},
   "outputs": [],
   "source": [
    "import math\n",
    "import numpy as np\n",
    "def kMeans_init_centroids(X, K):\n",
    "    randidx = np.random.permutation(X.shape[0])    \n",
    "    # Take the first K examples as centroids\n",
    "    centroids = X[randidx[:K]]\n",
    "    return centroids\n",
    "\n",
    "def find_closest_centroids(X, centroids):\n",
    "    K = centroids.shape[0]\n",
    "    idx = np.zeros(X.shape[0], dtype=int)\n",
    "    for i in range(X.shape[0]):\n",
    "        distance = []\n",
    "        for j in range(K):\n",
    "            norm_ij = np.linalg.norm(X[i] - centroids[j])\n",
    "            distance.append(norm_ij)\n",
    "        idx[i] = np.argmin(distance)\n",
    "        \n",
    "    return idx\n",
    "\n",
    "\n",
    "def compute_centroids(X, idx, K):\n",
    "    m, n = X.shape\n",
    "    centroids = np.zeros((K, n))\n",
    "    for i in range(K):\n",
    "        points = X[idx == i]\n",
    "        centroids[i] = np.mean(points, axis=0)\n",
    "    return centroids\n",
    "\n",
    "def run_kMeans(X, initial_centroids, max_iters=10):\n",
    "    # Initialize values\n",
    "    m, n = X.shape\n",
    "    K = initial_centroids.shape[0]\n",
    "    centroids = initial_centroids\n",
    "    previous_centroids = centroids    \n",
    "    idx = np.zeros(m)\n",
    "    \n",
    "    # Run K-Means\n",
    "    for i in range(max_iters):\n",
    "        idx = find_closest_centroids(X, centroids)\n",
    "        previous_centroids = centroids\n",
    "        # Given the memberships, compute new centroids\n",
    "        centroids = compute_centroids(X, idx, K)\n",
    "    return centroids, idx\n",
    "\n",
    "def get_maximum_voted_element(l):\n",
    "    return max(l, key = l.count)\n",
    "\n",
    "def KNN(X_train, y_train):\n",
    "    acc_centroids = []\n",
    "    acc_centroids_label = []\n",
    "    acc = 0;\n",
    "    for i in range(10):\n",
    "        X_train = np.array(X_train)\n",
    "        initial_centroids = kMeans_init_centroids(X_train, 30)\n",
    "        max_iters = 10\n",
    "        centroids, idx = run_kMeans(X_train, initial_centroids, max_iters)\n",
    "        centroids_label = []\n",
    "        for k in range(centroids.shape[0]):\n",
    "            l = []\n",
    "            for i in range(len(idx)):\n",
    "                if(idx[i] == k):\n",
    "                    l.append(y_train[i])\n",
    "            centroids_label.append(get_maximum_voted_element(l))\n",
    "        print(\"---------------------------------------------------------\")\n",
    "        print('Cetroids Label : {}'.format(centroids_label))\n",
    "        y_pred = []\n",
    "        for i in idx:\n",
    "            y_pred.append(centroids_label[i])\n",
    "            \n",
    "        accuracy = sum([y_pred_i == y_train_i \n",
    "                        for y_pred_i, y_train_i in \n",
    "                        zip(y_pred, y_train)]) / len(y_train)\n",
    "        print(\"Accuracy on Taining Data : {}\".format(accuracy))\n",
    "        print(\"---------------------------------------------------------\")\n",
    "        if acc < accuracy:\n",
    "            acc_centroids = centroids\n",
    "            acc_centroids_label = centroids_label\n",
    "            acc = accuracy\n",
    "    print(\"Maximum Accuracy : {}\".format(acc))\n",
    "    return acc_centroids, acc_centroids_label\n",
    "\n",
    "def knn_predict(X_test, centroids, centroids_label):\n",
    "    X = np.array(X_test)\n",
    "    idx = find_closest_centroids(X, centroids)\n",
    "    y_pred = []\n",
    "    for i in idx:\n",
    "#         print(\"---------------------------------------------------------\")\n",
    "        y_pred.append(centroids_label[i])\n",
    "#         print(\"Predicted : {}\".format(centroids_label[i]))\n",
    "#         print(\"---------------------------------------------------------\")\n",
    "    return y_pred\n"
   ]
  },
  {
   "cell_type": "code",
   "execution_count": 30,
   "id": "b9046c1a",
   "metadata": {},
   "outputs": [
    {
     "name": "stdout",
     "output_type": "stream",
     "text": [
      "---------------------------------------------------------\n",
      "Cetroids Label : [2, 1, 9, 3, 3, 0, 5, 9, 7, 2, 7, 7, 3, 1, 0, 8, 6, 4, 1, 8, 0, 6, 8, 2, 9, 7, 6, 4, 5, 0]\n",
      "Accuracy on Taining Data : 0.726\n",
      "---------------------------------------------------------\n",
      "---------------------------------------------------------\n",
      "Cetroids Label : [3, 1, 1, 8, 4, 9, 3, 8, 3, 0, 7, 9, 2, 6, 4, 6, 3, 1, 8, 7, 3, 2, 0, 5, 4, 8, 1, 4, 0, 8]\n",
      "Accuracy on Taining Data : 0.712\n",
      "---------------------------------------------------------\n",
      "---------------------------------------------------------\n",
      "Cetroids Label : [6, 6, 4, 0, 9, 7, 4, 3, 8, 0, 2, 3, 7, 2, 7, 1, 0, 1, 3, 7, 6, 9, 4, 1, 3, 0, 8, 3, 2, 5]\n",
      "Accuracy on Taining Data : 0.72\n",
      "---------------------------------------------------------\n",
      "---------------------------------------------------------\n",
      "Cetroids Label : [9, 0, 7, 3, 7, 4, 0, 4, 1, 9, 8, 8, 0, 7, 4, 0, 4, 1, 8, 3, 7, 6, 5, 3, 0, 2, 2, 5, 6, 1]\n",
      "Accuracy on Taining Data : 0.715\n",
      "---------------------------------------------------------\n",
      "---------------------------------------------------------\n",
      "Cetroids Label : [1, 6, 3, 2, 1, 7, 2, 2, 4, 9, 7, 0, 8, 3, 0, 4, 6, 2, 5, 0, 5, 3, 9, 3, 4, 1, 8, 6, 1, 9]\n",
      "Accuracy on Taining Data : 0.733\n",
      "---------------------------------------------------------\n",
      "---------------------------------------------------------\n",
      "Cetroids Label : [2, 3, 7, 4, 4, 0, 3, 3, 3, 5, 1, 0, 8, 4, 2, 6, 6, 2, 3, 7, 1, 9, 4, 8, 2, 9, 6, 2, 5, 0]\n",
      "Accuracy on Taining Data : 0.723\n",
      "---------------------------------------------------------\n",
      "---------------------------------------------------------\n",
      "Cetroids Label : [7, 5, 9, 4, 1, 0, 3, 6, 0, 1, 3, 4, 9, 3, 7, 3, 2, 5, 8, 6, 2, 7, 4, 0, 1, 8, 7, 6, 5, 0]\n",
      "Accuracy on Taining Data : 0.744\n",
      "---------------------------------------------------------\n",
      "---------------------------------------------------------\n",
      "Cetroids Label : [2, 9, 0, 1, 7, 5, 4, 0, 8, 1, 7, 0, 0, 4, 3, 6, 4, 0, 2, 6, 7, 1, 9, 5, 7, 8, 4, 6, 9, 3]\n",
      "Accuracy on Taining Data : 0.735\n",
      "---------------------------------------------------------\n",
      "---------------------------------------------------------\n",
      "Cetroids Label : [6, 8, 4, 7, 1, 0, 2, 5, 0, 4, 0, 3, 3, 5, 4, 2, 6, 3, 5, 7, 1, 9, 7, 0, 1, 4, 8, 6, 1, 7]\n",
      "Accuracy on Taining Data : 0.742\n",
      "---------------------------------------------------------\n",
      "---------------------------------------------------------\n",
      "Cetroids Label : [3, 3, 2, 0, 0, 2, 4, 0, 3, 0, 0, 5, 0, 7, 6, 7, 4, 5, 8, 9, 9, 3, 0, 1, 4, 8, 1, 6, 4, 0]\n",
      "Accuracy on Taining Data : 0.686\n",
      "---------------------------------------------------------\n",
      "Maximum Accuracy : 0.744\n"
     ]
    }
   ],
   "source": [
    "centroids, centroids_label= KNN(X_train, y_train)"
   ]
  },
  {
   "cell_type": "code",
   "execution_count": 31,
   "id": "23c793cf",
   "metadata": {},
   "outputs": [
    {
     "name": "stdout",
     "output_type": "stream",
     "text": [
      "0.705\n"
     ]
    }
   ],
   "source": [
    "y_pred = knn_predict(X_test, centroids, centroids_label)\n",
    "accuracy = sum([y_pred_i == y_test_i for y_pred_i, y_test_i in zip(y_pred, y_test)])/len(y_test)\n",
    "print(accuracy)"
   ]
  },
  {
   "cell_type": "markdown",
   "id": "3c473dc2",
   "metadata": {},
   "source": [
    "predicting "
   ]
  },
  {
   "cell_type": "code",
   "execution_count": 32,
   "id": "d509a24c",
   "metadata": {},
   "outputs": [],
   "source": [
    "# import os\n",
    "# import cv2\n",
    "# import matplotlib.pyplot as plt\n",
    "\n",
    "# def test_images_knn(test_img_dir):\n",
    "#     for entry in os.scandir(test_img_dir):\n",
    "#         image_path = entry.path\n",
    "#         image_name = image_path.split('/')[-1]\n",
    "#         image = cv2.imread(image_path)\n",
    "#         if image is None:\n",
    "#             continue\n",
    "#         image = cv2.cvtColor(image,cv2.COLOR_RGB2GRAY)\n",
    "#         image = cv2.resize(image,(28,28))\n",
    "# #         image = cv2.bitwise_not(image)\n",
    "#         print(\"------------------------------------------------\")\n",
    "#         fig = plt.figure(image_name, figsize=(1,1))\n",
    "#         plt.imshow(image)\n",
    "#         if image.shape[0]!=784:\n",
    "#             image = flatten_list(image)\n",
    "#         y_pred = knn_predict([image], centroids, centroids_label)\n",
    "#         print(\"Expected:  {}\".format(image_name))\n",
    "#         print(\"Predicted: {}\".format(y_pred))\n",
    "#         print(\"------------------------------------------------\")\n",
    "        \n",
    "\n",
    "# TEST_DIR = 'C:/Users/HP/OneDrive/Desktop/OCR/TEST/'\n",
    "# test_images_knn(TEST_DIR)"
   ]
  },
  {
   "cell_type": "markdown",
   "id": "58dc1060",
   "metadata": {},
   "source": [
    "### Approach 2: KNN "
   ]
  },
  {
   "cell_type": "code",
   "execution_count": 23,
   "id": "0a27eec4",
   "metadata": {},
   "outputs": [],
   "source": [
    "# X_train = read_images(TRAIN_DATA_FILENAME, 3000) # list of images\n",
    "# y_train = read_labels(TRAIN_LABELS_FILENAME, 3000)\n",
    "# X_test = read_images(TEST_DATA_FILENAME, 100)\n",
    "# y_test = read_labels(TEST_LABELS_FILENAME, 100)\n",
    "\n",
    "# X_train = extract_features(X_train)\n",
    "# X_test = extract_features(X_test)"
   ]
  },
  {
   "cell_type": "code",
   "execution_count": 33,
   "id": "1b7d1f2d",
   "metadata": {},
   "outputs": [],
   "source": [
    "def dist(x, y):\n",
    "    return sum([(x_i - y_i)**2 for x_i, y_i in zip(x, y)])**(0.5)\n",
    "\n",
    "def get_training_distances_for_test_samples(X_train, test_sample):\n",
    "    return [dist(train_sample, test_sample) for train_sample in X_train]\n",
    "\n",
    "def get_most_frequent_element(l):\n",
    "    return max(l, key = l.count)\n",
    "\n",
    "def knn(X_train, y_train, X_test, k=3):\n",
    "    y_pred = []\n",
    "    for sample in X_test:\n",
    "        training_distances = get_training_distances_for_test_samples(X_train, sample)\n",
    "        sorted_distance_indices = [ \n",
    "            pair[0]\n",
    "            for pair in sorted(enumerate(training_distances), key = lambda x : x[1])\n",
    "        ]\n",
    "        candidates = [\n",
    "            y_train[idx] for idx in sorted_distance_indices[:k]\n",
    "        ]\n",
    "        top_candidate = get_most_frequent_element(candidates)\n",
    "#         print(sorted_distance_indices)\n",
    "        y_pred.append(top_candidate)\n",
    "    return y_pred\n",
    "    \n",
    "    "
   ]
  },
  {
   "cell_type": "code",
   "execution_count": 34,
   "id": "55a36e06",
   "metadata": {},
   "outputs": [],
   "source": [
    "y_pred = knn(X_train, y_train, X_test, 3)"
   ]
  },
  {
   "cell_type": "markdown",
   "id": "6cf876bc",
   "metadata": {},
   "source": [
    "### Accuracy For Above Approach"
   ]
  },
  {
   "cell_type": "code",
   "execution_count": 35,
   "id": "9fe1b2db",
   "metadata": {},
   "outputs": [
    {
     "name": "stdout",
     "output_type": "stream",
     "text": [
      "0.855\n"
     ]
    }
   ],
   "source": [
    "accuracy = sum([y_pred_i == y_test_i for y_pred_i, y_test_i in zip(y_pred, y_test)])/len(y_test)\n",
    "print(accuracy)"
   ]
  },
  {
   "cell_type": "markdown",
   "id": "59b1c069",
   "metadata": {},
   "source": [
    "### Test On Some Handwritten Data"
   ]
  },
  {
   "cell_type": "code",
   "execution_count": 34,
   "id": "3e54490f",
   "metadata": {},
   "outputs": [
    {
     "name": "stdout",
     "output_type": "stream",
     "text": [
      "------------------------------------------------\n",
      "Expected:  MY_TEST.png\n",
      "Predicted: [6]\n",
      "------------------------------------------------\n"
     ]
    },
    {
     "data": {
      "image/png": "[encoded data removed]",
      "text/plain": [
       "<Figure size 72x72 with 1 Axes>"
      ]
     },
     "metadata": {
      "needs_background": "light"
     },
     "output_type": "display_data"
    }
   ],
   "source": [
    "import os\n",
    "import cv2\n",
    "import matplotlib.pyplot as plt\n",
    "def test_images(test_img_dir):\n",
    "    for entry in os.scandir(test_img_dir):\n",
    "        image_path = entry.path\n",
    "        image_name = image_path.split('/')[-1]\n",
    "        image = cv2.imread(image_path, cv2.IMREAD_GRAYSCALE)\n",
    "        if image is None:\n",
    "            continue\n",
    "#         image = cv2.cvtColor(image,cv2.COLOR_RGB2GRAY)\n",
    "        image = cv2.resize(image,(28,28))\n",
    "#         image = cv2.bitwise_not(image)\n",
    "        print(\"------------------------------------------------\")\n",
    "        fig = plt.figure(image_name, figsize=(1,1))\n",
    "        plt.imshow(image)\n",
    "        if image.shape[0]!=784:\n",
    "            image = flatten_list(image)\n",
    "        y_pred = knn(X_train, y_train, [image], 3)\n",
    "        print(\"Expected:  {}\".format(image_name))\n",
    "        print(\"Predicted: {}\".format(y_pred))\n",
    "        print(\"------------------------------------------------\")\n",
    "        \n",
    "\n",
    "TEST_DIR = 'C:/Users/HP/OneDrive/Desktop/OCR/TEST/'\n",
    "test_images(TEST_DIR)"
   ]
  },
  {
   "cell_type": "markdown",
   "id": "eb0685ef",
   "metadata": {},
   "source": [
    "### Testing With Live Image : Not working"
   ]
  },
  {
   "cell_type": "code",
   "execution_count": null,
   "id": "526505d8",
   "metadata": {},
   "outputs": [],
   "source": [
    "# # checking on a live image\n",
    "# def recognise_live_image(image):\n",
    "#     if image is None:\n",
    "#         return\n",
    "#     image = cv2.cvtColor(image,cv2.COLOR_RGB2GRAY)\n",
    "#     image = cv2.resize(image,(28,28))\n",
    "#     print(\"------------------------------------------------\")\n",
    "#     fig = plt.figure(\"Live Image\")\n",
    "#     plt.imshow(image)\n",
    "#     if image.shape[0]!=784:\n",
    "#         image = flatten_list(image)\n",
    "#     y_pred = knn(X_train, y_train, [image], 3)\n",
    "#     print(\"Predicted: {}\".format(y_pred))\n",
    "#     print(\"------------------------------------------------\")\n",
    "\n",
    "# video_capture = cv2.VideoCapture(0)\n",
    "# video_capture.set(3,640) # adjust width\n",
    "# video_capture.set(4,480) # adjust height\n",
    "\n",
    "# while True:\n",
    "#     # Reading image from video stream\n",
    "#     _, img = video_capture.read()\n",
    "#     cv2.imshow(\"Webcam\", img)\n",
    "#     recognise_live_image(img)\n",
    "#     # Writing processed image in a new window\n",
    "# #     plt.imshow(img)\n",
    "#     if cv2.waitKey(1) & 0xFF == ord('q'):\n",
    "#         break\n",
    "\n",
    "# # releasing web-cam\n",
    "# video_capture.release()\n",
    "# # Destroying output window\n",
    "# cv2.destroyAllWindows()"
   ]
  },
  {
   "cell_type": "markdown",
   "id": "02b18b6c",
   "metadata": {},
   "source": [
    "### Approach 3: Using Sklearn and comparing Accuracy"
   ]
  },
  {
   "cell_type": "code",
   "execution_count": 35,
   "id": "09e687a9",
   "metadata": {},
   "outputs": [],
   "source": [
    "# X_train = read_images(TRAIN_DATA_FILENAME, 5000) # list of images\n",
    "# y_train = read_labels(TRAIN_LABELS_FILENAME, 5000)\n",
    "# X_test = read_images(TEST_DATA_FILENAME, 100)\n",
    "# y_test = read_labels(TEST_LABELS_FILENAME, 100)\n",
    "\n",
    "# X_train = extract_features(X_train)\n",
    "# X_test = extract_features(X_test)"
   ]
  },
  {
   "cell_type": "code",
   "execution_count": 36,
   "id": "85dfe226",
   "metadata": {},
   "outputs": [
    {
     "name": "stdout",
     "output_type": "stream",
     "text": [
      "Accuracy with defaul KNN: 0.85\n"
     ]
    }
   ],
   "source": [
    "from sklearn.neighbors import KNeighborsClassifier\n",
    "from sklearn.model_selection import cross_val_score\n",
    "import numpy as np\n",
    "# create an instance of the classifier\n",
    "knn_default = KNeighborsClassifier()\n",
    "# fit the model and perform cross validation\n",
    "knn_default = KNeighborsClassifier()\n",
    "cv_scores = cross_val_score(knn_default, X_train, y_train, cv=5, scoring=\"accuracy\")\n",
    "# take the average of the scores of different folds\n",
    "final_score_default = np.mean(cv_scores)\n",
    "print(\"Accuracy with defaul KNN:\", final_score_default)\n",
    "    \n"
   ]
  },
  {
   "cell_type": "code",
   "execution_count": 38,
   "id": "e9ce096c",
   "metadata": {},
   "outputs": [
    {
     "name": "stdout",
     "output_type": "stream",
     "text": [
      "Fitting 2 folds for each of 6 candidates, totalling 12 fits\n",
      "[CV 1/2; 1/6] START n_neighbors=4, weights=uniform..............................\n",
      "[CV 1/2; 1/6] END ............n_neighbors=4, weights=uniform; total time=   0.0s\n",
      "[CV 2/2; 1/6] START n_neighbors=4, weights=uniform..............................\n",
      "[CV 2/2; 1/6] END ............n_neighbors=4, weights=uniform; total time=   0.0s\n",
      "[CV 1/2; 2/6] START n_neighbors=4, weights=distance.............................\n",
      "[CV 1/2; 2/6] END ...........n_neighbors=4, weights=distance; total time=   0.0s\n",
      "[CV 2/2; 2/6] START n_neighbors=4, weights=distance.............................\n",
      "[CV 2/2; 2/6] END ...........n_neighbors=4, weights=distance; total time=   0.0s\n",
      "[CV 1/2; 3/6] START n_neighbors=5, weights=uniform..............................\n",
      "[CV 1/2; 3/6] END ............n_neighbors=5, weights=uniform; total time=   0.0s\n",
      "[CV 2/2; 3/6] START n_neighbors=5, weights=uniform..............................\n",
      "[CV 2/2; 3/6] END ............n_neighbors=5, weights=uniform; total time=   0.0s\n",
      "[CV 1/2; 4/6] START n_neighbors=5, weights=distance.............................\n",
      "[CV 1/2; 4/6] END ...........n_neighbors=5, weights=distance; total time=   0.0s\n",
      "[CV 2/2; 4/6] START n_neighbors=5, weights=distance.............................\n",
      "[CV 2/2; 4/6] END ...........n_neighbors=5, weights=distance; total time=   0.0s\n",
      "[CV 1/2; 5/6] START n_neighbors=6, weights=uniform..............................\n",
      "[CV 1/2; 5/6] END ............n_neighbors=6, weights=uniform; total time=   0.0s\n",
      "[CV 2/2; 5/6] START n_neighbors=6, weights=uniform..............................\n",
      "[CV 2/2; 5/6] END ............n_neighbors=6, weights=uniform; total time=   0.0s\n",
      "[CV 1/2; 6/6] START n_neighbors=6, weights=distance.............................\n",
      "[CV 1/2; 6/6] END ...........n_neighbors=6, weights=distance; total time=   0.0s\n",
      "[CV 2/2; 6/6] START n_neighbors=6, weights=distance.............................\n",
      "[CV 2/2; 6/6] END ...........n_neighbors=6, weights=distance; total time=   0.0s\n"
     ]
    },
    {
     "data": {
      "text/plain": [
       "GridSearchCV(cv=2, estimator=KNeighborsClassifier(),\n",
       "             param_grid={'n_neighbors': [4, 5, 6],\n",
       "                         'weights': ['uniform', 'distance']},\n",
       "             return_train_score=True, scoring='accuracy', verbose=10)"
      ]
     },
     "execution_count": 38,
     "metadata": {},
     "output_type": "execute_result"
    }
   ],
   "source": [
    "parameters = {'n_neighbors':list(range(4,7)), 'weights': ['uniform', 'distance']}\n",
    "\n",
    "from sklearn.model_selection import GridSearchCV\n",
    "# create an instance of the knn classifier\n",
    "knn_grid_tuned = KNeighborsClassifier()\n",
    "# create an instance of grid search with the above parameters\n",
    "grid_search = GridSearchCV(knn_grid_tuned, parameters, cv=2, scoring='accuracy', return_train_score=True, verbose=10)\n",
    "# fit the grid search with training set\n",
    "grid_search.fit(X_train, y_train)"
   ]
  },
  {
   "cell_type": "code",
   "execution_count": 39,
   "id": "508e7732",
   "metadata": {},
   "outputs": [],
   "source": [
    "# retrieve the best estimator\n",
    "knn_tuned = grid_search.best_estimator_"
   ]
  },
  {
   "cell_type": "markdown",
   "id": "3ee701ae",
   "metadata": {},
   "source": [
    "### Accuracy on Test set"
   ]
  },
  {
   "cell_type": "code",
   "execution_count": 40,
   "id": "510a6121",
   "metadata": {},
   "outputs": [
    {
     "data": {
      "text/plain": [
       "0.86"
      ]
     },
     "execution_count": 40,
     "metadata": {},
     "output_type": "execute_result"
    }
   ],
   "source": [
    "from sklearn.metrics import accuracy_score\n",
    "accuracy_score(y_test, knn_tuned.predict(X_test))"
   ]
  },
  {
   "cell_type": "markdown",
   "id": "775050e3",
   "metadata": {},
   "source": [
    "### Testing on handwritten data"
   ]
  },
  {
   "cell_type": "code",
   "execution_count": 54,
   "id": "e3727efc",
   "metadata": {},
   "outputs": [
    {
     "name": "stdout",
     "output_type": "stream",
     "text": [
      "------------------------------------------------\n",
      "Expected:  MY_TEST.png\n",
      "Predicted: [2]\n",
      "------------------------------------------------\n"
     ]
    },
    {
     "data": {
      "image/png": "[encoded data removed]",
      "text/plain": [
       "<Figure size 72x72 with 1 Axes>"
      ]
     },
     "metadata": {
      "needs_background": "light"
     },
     "output_type": "display_data"
    }
   ],
   "source": [
    "import os\n",
    "def test_images_sklearn_knn(test_img_dir):\n",
    "    no_of_plots = 11\n",
    "    plot = 0\n",
    "    fig, ax = plt.subplots(no_of_plots, 1, figsize=(15,15), constrained_layout = True)\n",
    "    for entry in os.scandir(test_img_dir):\n",
    "        image_path = entry.path\n",
    "        image_name = image_path.split('/')[-1]\n",
    "        image = cv2.imread(image_path, cv2.IMREAD_GRAYSCALE)\n",
    "        if image is None:\n",
    "            continue\n",
    "#         image = cv2.cvtColor(image,cv2.COLOR_RGB2GRAY)\n",
    "        image = cv2.resize(image,(28,28))\n",
    "#         image = cv2.bitwise_not(image)\n",
    "        print(\"------------------------------------------------\")\n",
    "        fig = plt.figure(image_name, figsize=(1,1))\n",
    "        plt.imshow(image)\n",
    "        if image.shape[0]!=784:\n",
    "            image = flatten_list(image)\n",
    "        y_pred = knn_tuned.predict([image])\n",
    "        print(\"Expected:  {}\".format(image_name))\n",
    "        print(\"Predicted: {}\".format(y_pred))\n",
    "        print(\"------------------------------------------------\")\n",
    "        plt.axis('off')\n",
    "        image = np.reshape(image, (28,28))\n",
    "        ax[plot].imshow(image)\n",
    "        ax[plot].set_title(title)\n",
    "        ax[plot].set_axis_off()\n",
    "        plot += 1\n",
    "\n",
    "TEST_DIR = 'C:/Users/HP/OneDrive/Desktop/OCR/TEST/'\n",
    "test_images_sklearn_knn(TEST_DIR)"
   ]
  },
  {
   "cell_type": "markdown",
   "id": "81c9d56b",
   "metadata": {},
   "source": [
    "### Approach 4: Using Neural Network - Tensor FLow"
   ]
  },
  {
   "cell_type": "code",
   "execution_count": 7,
   "id": "2a49ab63",
   "metadata": {},
   "outputs": [],
   "source": [
    "# X_train = read_images(TRAIN_DATA_FILENAME, 2000) # list of images\n",
    "# y_train = read_labels(TRAIN_LABELS_FILENAME, 2000)\n",
    "# X_test = read_images(TEST_DATA_FILENAME, 100)\n",
    "# y_test = read_labels(TEST_LABELS_FILENAME, 100)\n",
    "\n",
    "# X_train = extract_features(X_train)\n",
    "# X_test = extract_features(X_test)"
   ]
  },
  {
   "cell_type": "code",
   "execution_count": 41,
   "id": "631888ae",
   "metadata": {},
   "outputs": [],
   "source": [
    "import warnings\n",
    "warnings.simplefilter(action='ignore', category=FutureWarning)"
   ]
  },
  {
   "cell_type": "code",
   "execution_count": 42,
   "id": "3f838d2a",
   "metadata": {},
   "outputs": [],
   "source": [
    "import tensorflow as tf\n",
    "from tensorflow.keras.models import Sequential\n",
    "from tensorflow.keras.layers import Dense\n",
    "\n",
    "import logging\n",
    "logging.getLogger(\"tensorflow\").setLevel(logging.ERROR)\n",
    "tf.autograph.set_verbosity(0)"
   ]
  },
  {
   "cell_type": "markdown",
   "id": "1e881bcc",
   "metadata": {},
   "source": [
    "### Tensor Flow Model"
   ]
  },
  {
   "cell_type": "code",
   "execution_count": 43,
   "id": "9ae48822",
   "metadata": {},
   "outputs": [
    {
     "name": "stdout",
     "output_type": "stream",
     "text": [
      "Model: \"my_model\"\n",
      "_________________________________________________________________\n",
      " Layer (type)                Output Shape              Param #   \n",
      "=================================================================\n",
      " layer1 (Dense)              (None, 25)                19625     \n",
      "                                                                 \n",
      " layer2 (Dense)              (None, 15)                390       \n",
      "                                                                 \n",
      " layer3 (Dense)              (None, 10)                160       \n",
      "                                                                 \n",
      "=================================================================\n",
      "Total params: 20,175\n",
      "Trainable params: 20,175\n",
      "Non-trainable params: 0\n",
      "_________________________________________________________________\n"
     ]
    }
   ],
   "source": [
    "tf.random.set_seed(1234) # for consistent results\n",
    "model = Sequential(\n",
    "    [               \n",
    "        tf.keras.Input(shape=(784,)),\n",
    "        Dense(25, activation='relu', name = 'layer1'),\n",
    "        Dense(15, activation='relu', name = 'layer2'),\n",
    "        Dense(10, activation='linear', name = 'layer3')\n",
    "    ], name = \"my_model\" \n",
    ")\n",
    "\n",
    "model.summary()"
   ]
  },
  {
   "cell_type": "code",
   "execution_count": 44,
   "id": "79c65abd",
   "metadata": {},
   "outputs": [
    {
     "name": "stdout",
     "output_type": "stream",
     "text": [
      "W1 shape = (784, 25), b1 shape = (25,)\n",
      "W2 shape = (25, 15), b2 shape = (15,)\n",
      "W3 shape = (15, 10), b3 shape = (10,)\n"
     ]
    }
   ],
   "source": [
    "[layer1, layer2, layer3] = model.layers\n",
    "#### Examine Weights shapes\n",
    "W1,b1 = layer1.get_weights()\n",
    "W2,b2 = layer2.get_weights()\n",
    "W3,b3 = layer3.get_weights()\n",
    "print(f\"W1 shape = {W1.shape}, b1 shape = {b1.shape}\")\n",
    "print(f\"W2 shape = {W2.shape}, b2 shape = {b2.shape}\")\n",
    "print(f\"W3 shape = {W3.shape}, b3 shape = {b3.shape}\")"
   ]
  },
  {
   "cell_type": "code",
   "execution_count": 45,
   "id": "ebea5694",
   "metadata": {},
   "outputs": [
    {
     "name": "stdout",
     "output_type": "stream",
     "text": [
      "Epoch 1/40\n",
      "32/32 [==============================] - 1s 2ms/step - loss: 23.5376\n",
      "Epoch 2/40\n",
      "32/32 [==============================] - 0s 2ms/step - loss: 2.6636\n",
      "Epoch 3/40\n",
      "32/32 [==============================] - 0s 2ms/step - loss: 2.2015\n",
      "Epoch 4/40\n",
      "32/32 [==============================] - 0s 2ms/step - loss: 2.1049\n",
      "Epoch 5/40\n",
      "32/32 [==============================] - 0s 2ms/step - loss: 2.0373\n",
      "Epoch 6/40\n",
      "32/32 [==============================] - 0s 2ms/step - loss: 1.9573\n",
      "Epoch 7/40\n",
      "32/32 [==============================] - 0s 2ms/step - loss: 1.8562\n",
      "Epoch 8/40\n",
      "32/32 [==============================] - 0s 2ms/step - loss: 1.8202\n",
      "Epoch 9/40\n",
      "32/32 [==============================] - 0s 2ms/step - loss: 1.8048\n",
      "Epoch 10/40\n",
      "32/32 [==============================] - 0s 2ms/step - loss: 1.6823\n",
      "Epoch 11/40\n",
      "32/32 [==============================] - 0s 2ms/step - loss: 1.6089\n",
      "Epoch 12/40\n",
      "32/32 [==============================] - 0s 2ms/step - loss: 1.5963\n",
      "Epoch 13/40\n",
      "32/32 [==============================] - 0s 2ms/step - loss: 1.5527\n",
      "Epoch 14/40\n",
      "32/32 [==============================] - 0s 2ms/step - loss: 1.4869\n",
      "Epoch 15/40\n",
      "32/32 [==============================] - 0s 2ms/step - loss: 1.4257\n",
      "Epoch 16/40\n",
      "32/32 [==============================] - 0s 3ms/step - loss: 1.3531\n",
      "Epoch 17/40\n",
      "32/32 [==============================] - 0s 2ms/step - loss: 1.3550\n",
      "Epoch 18/40\n",
      "32/32 [==============================] - 0s 2ms/step - loss: 1.2774\n",
      "Epoch 19/40\n",
      "32/32 [==============================] - 0s 2ms/step - loss: 1.2574\n",
      "Epoch 20/40\n",
      "32/32 [==============================] - 0s 2ms/step - loss: 1.2698\n",
      "Epoch 21/40\n",
      "32/32 [==============================] - 0s 2ms/step - loss: 1.2720\n",
      "Epoch 22/40\n",
      "32/32 [==============================] - 0s 2ms/step - loss: 1.1933\n",
      "Epoch 23/40\n",
      "32/32 [==============================] - 0s 2ms/step - loss: 1.1205\n",
      "Epoch 24/40\n",
      "32/32 [==============================] - 0s 2ms/step - loss: 1.2415\n",
      "Epoch 25/40\n",
      "32/32 [==============================] - 0s 2ms/step - loss: 1.1239\n",
      "Epoch 26/40\n",
      "32/32 [==============================] - 0s 2ms/step - loss: 1.1017\n",
      "Epoch 27/40\n",
      "32/32 [==============================] - 0s 2ms/step - loss: 1.0752\n",
      "Epoch 28/40\n",
      "32/32 [==============================] - 0s 2ms/step - loss: 1.0580\n",
      "Epoch 29/40\n",
      "32/32 [==============================] - 0s 2ms/step - loss: 1.0344\n",
      "Epoch 30/40\n",
      "32/32 [==============================] - 0s 2ms/step - loss: 1.0691\n",
      "Epoch 31/40\n",
      "32/32 [==============================] - 0s 2ms/step - loss: 1.0205\n",
      "Epoch 32/40\n",
      "32/32 [==============================] - 0s 2ms/step - loss: 1.0317\n",
      "Epoch 33/40\n",
      "32/32 [==============================] - 0s 2ms/step - loss: 0.9998\n",
      "Epoch 34/40\n",
      "32/32 [==============================] - 0s 2ms/step - loss: 0.9773\n",
      "Epoch 35/40\n",
      "32/32 [==============================] - 0s 2ms/step - loss: 0.9645\n",
      "Epoch 36/40\n",
      "32/32 [==============================] - 0s 2ms/step - loss: 0.9605\n",
      "Epoch 37/40\n",
      "32/32 [==============================] - 0s 2ms/step - loss: 0.9387\n",
      "Epoch 38/40\n",
      "32/32 [==============================] - 0s 2ms/step - loss: 0.9636\n",
      "Epoch 39/40\n",
      "32/32 [==============================] - 0s 2ms/step - loss: 0.9498\n",
      "Epoch 40/40\n",
      "32/32 [==============================] - 0s 2ms/step - loss: 0.9549\n"
     ]
    },
    {
     "data": {
      "text/plain": [
       "<keras.callbacks.History at 0x21ed65379d0>"
      ]
     },
     "execution_count": 45,
     "metadata": {},
     "output_type": "execute_result"
    }
   ],
   "source": [
    "model.compile(\n",
    "#     loss=tf.keras.losses.BinaryCrossentropy(),\n",
    "    loss=tf.keras.losses.SparseCategoricalCrossentropy(from_logits=True),\n",
    "    optimizer=tf.keras.optimizers.Adam(0.001),\n",
    ")\n",
    "\n",
    "model.fit(\n",
    "    X_train, y_train,\n",
    "    epochs=40\n",
    ")"
   ]
  },
  {
   "cell_type": "markdown",
   "id": "5d5f0aef",
   "metadata": {},
   "source": [
    "### Testing and getting accuracy"
   ]
  },
  {
   "cell_type": "code",
   "execution_count": 46,
   "id": "15afafb7",
   "metadata": {},
   "outputs": [
    {
     "name": "stdout",
     "output_type": "stream",
     "text": [
      "7/7 [==============================] - 0s 2ms/step\n",
      "0.555\n"
     ]
    }
   ],
   "source": [
    "import numpy as np\n",
    "def neural_network_predict(X_test):\n",
    "    y_pred_p = model.predict(X_test)\n",
    "    y_pred = tf.nn.softmax(y_pred_p)\n",
    "    y_hat = []\n",
    "    for i in y_pred:\n",
    "        y_hat.append(np.argmax(i))\n",
    "    return y_hat\n",
    "\n",
    "y_pred = neural_network_predict(X_test)\n",
    "accuracy = sum([y_pred_i == y_test_i for y_pred_i, y_test_i in zip(y_pred, y_test)])/len(y_test)\n",
    "print(accuracy)"
   ]
  },
  {
   "cell_type": "markdown",
   "id": "9633c043",
   "metadata": {},
   "source": [
    "### Testing on handwritten data"
   ]
  },
  {
   "cell_type": "code",
   "execution_count": 47,
   "id": "afbba207",
   "metadata": {},
   "outputs": [
    {
     "name": "stdout",
     "output_type": "stream",
     "text": [
      "1/1 [==============================] - 0s 50ms/step\n",
      "1/1 [==============================] - 0s 19ms/step\n",
      "1/1 [==============================] - 0s 21ms/step\n",
      "1/1 [==============================] - 0s 25ms/step\n",
      "1/1 [==============================] - 0s 21ms/step\n",
      "1/1 [==============================] - 0s 31ms/step\n",
      "1/1 [==============================] - 0s 18ms/step\n",
      "1/1 [==============================] - 0s 22ms/step\n",
      "1/1 [==============================] - 0s 18ms/step\n",
      "1/1 [==============================] - 0s 20ms/step\n",
      "1/1 [==============================] - 0s 19ms/step\n"
     ]
    },
    {
     "data": {
      "image/png": "[encoded data removed]",
      "text/plain": [
       "<Figure size 1080x1080 with 11 Axes>"
      ]
     },
     "metadata": {
      "needs_background": "light"
     },
     "output_type": "display_data"
    }
   ],
   "source": [
    "import os\n",
    "import matplotlib.pyplot as plt\n",
    "import cv2\n",
    "def test_images_neural_network(test_img_dir):\n",
    "    no_of_plots = 11\n",
    "    plot = 0\n",
    "    fig, ax = plt.subplots(no_of_plots, 1, figsize=(15,15), constrained_layout = True)\n",
    "    for entry in os.scandir(test_img_dir):\n",
    "        image_path = entry.path\n",
    "        image_name = image_path.split('/')[-1]\n",
    "        image = cv2.imread(image_path, cv2.IMREAD_GRAYSCALE)\n",
    "        title = \"\"\n",
    "        if image is None:\n",
    "            title = \"!! No Image !!\"\n",
    "        else:\n",
    "            image = cv2.resize(image,(28,28))\n",
    "            if image.shape[0]!=784:\n",
    "                image = flatten_list(image)\n",
    "            image =  np.array([image])\n",
    "            # Training on various algo's\n",
    "            y_pred_algo_1 = knn_predict(image, centroids, centroids_label)\n",
    "            y_pred_algo_2 = knn(X_train, y_train, image, 3)\n",
    "            y_pred_algo_3 = knn_tuned.predict(image)\n",
    "            \n",
    "            y_pred = model.predict(image)\n",
    "            # applying softmax function\n",
    "            y_pred_p = tf.nn.softmax(y_pred)\n",
    "            y_pred_algo_4 = np.argmax(y_pred_p)\n",
    "            title = \"Expected:  {} | Predicted: [ {} | {} | {} | {} ] \".format(image_name, y_pred_algo_1, y_pred_algo_2, y_pred_algo_3, y_pred_algo_4)\n",
    "        plt.axis('off')\n",
    "        image = np.reshape(image, (28,28))\n",
    "        ax[plot].imshow(image)\n",
    "        ax[plot].set_title(title)\n",
    "        ax[plot].set_axis_off()\n",
    "        plot += 1\n",
    "\n",
    "TEST_DIR = 'C:/Users/HP/OneDrive/Desktop/MACHINE LEARNING PROJECTS/OCR/TEST_1/'\n",
    "test_images_neural_network(TEST_DIR)"
   ]
  },
  {
   "cell_type": "code",
   "execution_count": null,
   "id": "e432d822",
   "metadata": {},
   "outputs": [],
   "source": []
  },
  {
   "cell_type": "code",
   "execution_count": null,
   "id": "61858d9e",
   "metadata": {},
   "outputs": [],
   "source": []
  }
 ],
 "metadata": {
  "kernelspec": {
   "display_name": "Python 3",
   "language": "python",
   "name": "python3"
  },
  "language_info": {
   "codemirror_mode": {
    "name": "ipython",
    "version": 3
   },
   "file_extension": ".py",
   "mimetype": "text/x-python",
   "name": "python",
   "nbconvert_exporter": "python",
   "pygments_lexer": "ipython3",
   "version": "3.8.8"
  }
 },
 "nbformat": 4,
 "nbformat_minor": 5
}
